{
 "cells": [
  {
   "cell_type": "code",
   "execution_count": 1,
   "id": "ea3786a4",
   "metadata": {},
   "outputs": [
    {
     "name": "stdout",
     "output_type": "stream",
     "text": [
      "A capital do país português é Lisboa.\n"
     ]
    }
   ],
   "source": [
    "import requests\n",
    "\n",
    "response = requests.post(\n",
    "    'http://localhost:11434/api/generate',\n",
    "    json={\n",
    "        'model': 'tinyllama',  # ou outro modelo que tens instalado\n",
    "        'prompt': 'Qual é a capital de Portugal?',\n",
    "        'stream': False\n",
    "    }\n",
    ")\n",
    "\n",
    "data = response.json()\n",
    "print(data['response'])\n"
   ]
  }
 ],
 "metadata": {
  "kernelspec": {
   "display_name": ".venv",
   "language": "python",
   "name": "python3"
  },
  "language_info": {
   "codemirror_mode": {
    "name": "ipython",
    "version": 3
   },
   "file_extension": ".py",
   "mimetype": "text/x-python",
   "name": "python",
   "nbconvert_exporter": "python",
   "pygments_lexer": "ipython3",
   "version": "3.12.3"
  }
 },
 "nbformat": 4,
 "nbformat_minor": 5
}
