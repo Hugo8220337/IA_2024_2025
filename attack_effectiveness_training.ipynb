{
 "cells": [
  {
   "cell_type": "code",
   "execution_count": 1,
   "id": "53cb4bad",
   "metadata": {},
   "outputs": [],
   "source": [
    "import numpy as np\n",
    "from sklearn.model_selection import train_test_split\n",
    "from sklearn.preprocessing import LabelEncoder\n",
    "from sklearn.ensemble import RandomForestClassifier"
   ]
  },
  {
   "cell_type": "code",
   "execution_count": 2,
   "id": "c76ccba3",
   "metadata": {},
   "outputs": [],
   "source": [
    "# O ficheiro datasets/attack_attempts.csv deve ter o formato:\n",
    "# pokemon_name,attack_type,result\n",
    "\n",
    "data = np.genfromtxt('datasets/attack_attempts.csv', delimiter=',', dtype=str, skip_header=1)\n",
    "\n",
    "# Separa colunas\n",
    "pokemon_names = data[:, 0]\n",
    "attack_types = data[:, 1]\n",
    "results = data[:, 2]"
   ]
  },
  {
   "cell_type": "markdown",
   "id": "b51b15be",
   "metadata": {},
   "source": [
    "## Codificar os dados (Label Encoding)"
   ]
  },
  {
   "cell_type": "code",
   "execution_count": 3,
   "id": "ec2dd013",
   "metadata": {},
   "outputs": [],
   "source": [
    "pokemon_encoder = LabelEncoder()\n",
    "attack_encoder = LabelEncoder()\n",
    "result_encoder = LabelEncoder()\n",
    "\n",
    "pokemon_encoded = pokemon_encoder.fit_transform(pokemon_names)\n",
    "attack_encoded = attack_encoder.fit_transform(attack_types)\n",
    "result_encoded = result_encoder.fit_transform(results)\n",
    "\n",
    "# Junta Pokémon + Tipo de Ataque como input\n",
    "X = np.column_stack((pokemon_encoded, attack_encoded))\n",
    "y = result_encoded"
   ]
  },
  {
   "cell_type": "markdown",
   "id": "9a7b8250",
   "metadata": {},
   "source": [
    "## Dividir em treino e teste"
   ]
  },
  {
   "cell_type": "code",
   "execution_count": 4,
   "id": "c13f58fe",
   "metadata": {},
   "outputs": [],
   "source": [
    "X_train, X_test, y_train, y_test = train_test_split(X, y, test_size=0.2, random_state=42)"
   ]
  },
  {
   "cell_type": "markdown",
   "id": "afa547ef",
   "metadata": {},
   "source": [
    "## Treinar o modelo Random Forest"
   ]
  },
  {
   "cell_type": "code",
   "execution_count": null,
   "id": "8751a858",
   "metadata": {},
   "outputs": [],
   "source": [
    "model = RandomForestClassifier()\n",
    "model.fit(X_train, y_train)\n",
    "\n",
    "# Avaliar no conjunto de teste\n",
    "accuracy = model.score(X_test, y_test)\n",
    "print(f\"Test accuracy: {accuracy:.2f}\")"
   ]
  },
  {
   "cell_type": "markdown",
   "id": "0de2ae4d",
   "metadata": {},
   "source": [
    "## Save the trained model and encoders to disk"
   ]
  },
  {
   "cell_type": "code",
   "execution_count": null,
   "id": "0f949675",
   "metadata": {},
   "outputs": [],
   "source": [
    "import pickle\n",
    "\n",
    "# Create a dictionary to save everything needed for production\n",
    "export_dict = {\n",
    "    \"model\": model,\n",
    "    \"pokemon_encoder\": pokemon_encoder,\n",
    "    \"attack_encoder\": attack_encoder,\n",
    "    \"result_encoder\": result_encoder\n",
    "}\n",
    "\n",
    "# Save it\n",
    "with open('models/attack_predictor.pkl', 'wb') as f:\n",
    "    pickle.dump(export_dict, f)\n",
    "\n",
    "print(\"Model exported successfully to models/attack_predictor.pkl\")"
   ]
  },
  {
   "cell_type": "markdown",
   "id": "baf1f199",
   "metadata": {},
   "source": [
    "## Exemplo de utilização do modelo treinado"
   ]
  },
  {
   "cell_type": "code",
   "execution_count": 10,
   "id": "7ca054eb",
   "metadata": {},
   "outputs": [],
   "source": [
    "# Carregar o modelo salvo\n",
    "with open('models/attack_predictor.pkl', 'rb') as f:\n",
    "    saved_data = pickle.load(f)\n",
    "\n",
    "# Recuperar o modelo e os codificadores guardados\n",
    "model = saved_data[\"model\"]\n",
    "pokemon_encoder = saved_data[\"pokemon_encoder\"]\n",
    "attack_encoder = saved_data[\"attack_encoder\"]\n",
    "result_encoder = saved_data[\"result_encoder\"]"
   ]
  },
  {
   "cell_type": "code",
   "execution_count": null,
   "id": "c060bd25",
   "metadata": {},
   "outputs": [],
   "source": [
    "# Suponha que você detectou um Pokémon e os tipos de ataque disponíveis\n",
    "detected_pokemon_name = \"Pidgey\"\n",
    "available_attack_types = [\"Electric\", \"Water\", \"Fire\", \"Grass\"]\n",
    "\n",
    "# Para cada ataque disponível, prever o resultado\n",
    "best_attack = None\n",
    "best_score = None\n",
    "\n",
    "for attack in available_attack_types:\n",
    "    try:\n",
    "        # Codificar o nome do Pokémon e o tipo de ataque\n",
    "        pokemon_encoded = pokemon_encoder.transform([detected_pokemon_name])[0]\n",
    "        attack_encoded = attack_encoder.transform([attack])[0]\n",
    "\n",
    "        # Fazer a previsão\n",
    "        prediction = model.predict(np.array([[pokemon_encoded, attack_encoded]]))\n",
    "        predicted_result = result_encoder.inverse_transform(prediction)[0]\n",
    "\n",
    "        # Definir um sistema de prioridade\n",
    "        score = 0\n",
    "        if predicted_result == \"super_effective\":\n",
    "            score = 2\n",
    "        elif predicted_result == \"effective\":\n",
    "            score = 1\n",
    "        elif predicted_result == \"not_very_effective\":\n",
    "            score = 0\n",
    "\n",
    "        # Atualizar o melhor ataque com base na pontuação\n",
    "        if best_score is None or score > best_score:\n",
    "            best_score = score\n",
    "            best_attack = attack\n",
    "\n",
    "    except Exception as e:\n",
    "        print(f\"Aviso: não foi possível prever para o ataque {attack} -> {str(e)}\")\n",
    "\n",
    "# Exibir o melhor ataque encontrado\n",
    "if best_attack:\n",
    "    print(f\"Melhor ataque a usar: {best_attack}\")\n",
    "else:\n",
    "    print(\"Nenhum ataque válido encontrado.\")"
   ]
  }
 ],
 "metadata": {
  "kernelspec": {
   "display_name": ".venv",
   "language": "python",
   "name": "python3"
  },
  "language_info": {
   "codemirror_mode": {
    "name": "ipython",
    "version": 3
   },
   "file_extension": ".py",
   "mimetype": "text/x-python",
   "name": "python",
   "nbconvert_exporter": "python",
   "pygments_lexer": "ipython3",
   "version": "3.11.3"
  }
 },
 "nbformat": 4,
 "nbformat_minor": 5
}
