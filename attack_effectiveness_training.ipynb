{
 "cells": [
  {
   "cell_type": "code",
   "execution_count": 1,
   "id": "53cb4bad",
   "metadata": {},
   "outputs": [],
   "source": [
    "import numpy as np\n",
    "from sklearn.model_selection import train_test_split\n",
    "from sklearn.preprocessing import LabelEncoder\n",
    "from sklearn.ensemble import RandomForestClassifier"
   ]
  },
  {
   "cell_type": "code",
   "execution_count": null,
   "id": "c76ccba3",
   "metadata": {},
   "outputs": [],
   "source": [
    "# The file datasets/attack_attempts.csv should have the format:\n",
    "# pokemon_name,attack_type,result\n",
    "\n",
    "data = np.genfromtxt('datasets/attack_attempts.csv', delimiter=',', dtype=str, skip_header=1)\n",
    "\n",
    "# Split columns\n",
    "pokemon_names = data[:, 0]\n",
    "attack_types = data[:, 1]\n",
    "results = data[:, 2]"
   ]
  },
  {
   "cell_type": "markdown",
   "id": "b51b15be",
   "metadata": {},
   "source": [
    "## Codificar os dados (Label Encoding)"
   ]
  },
  {
   "cell_type": "code",
   "execution_count": null,
   "id": "ec2dd013",
   "metadata": {},
   "outputs": [],
   "source": [
    "pokemon_encoder = LabelEncoder()\n",
    "attack_encoder = LabelEncoder()\n",
    "result_encoder = LabelEncoder()\n",
    "\n",
    "pokemon_encoded = pokemon_encoder.fit_transform(pokemon_names)\n",
    "attack_encoded = attack_encoder.fit_transform(attack_types)\n",
    "result_encoded = result_encoder.fit_transform(results)\n",
    "\n",
    "# Combine Pokémon and Attack Type as input\n",
    "X = np.column_stack((pokemon_encoded, attack_encoded))\n",
    "y = result_encoded"
   ]
  },
  {
   "cell_type": "markdown",
   "id": "9a7b8250",
   "metadata": {},
   "source": [
    "## Dividir em treino e teste"
   ]
  },
  {
   "cell_type": "code",
   "execution_count": 4,
   "id": "c13f58fe",
   "metadata": {},
   "outputs": [],
   "source": [
    "X_train, X_test, y_train, y_test = train_test_split(X, y, test_size=0.2, random_state=42)"
   ]
  },
  {
   "cell_type": "markdown",
   "id": "afa547ef",
   "metadata": {},
   "source": [
    "## Train the Random Forest model"
   ]
  },
  {
   "cell_type": "code",
   "execution_count": null,
   "id": "8751a858",
   "metadata": {},
   "outputs": [],
   "source": [
    "model = RandomForestClassifier()\n",
    "model.fit(X_train, y_train)\n",
    "\n",
    "# Avalueate the model on the test set\n",
    "accuracy = model.score(X_test, y_test)\n",
    "print(f\"Test accuracy: {accuracy:.2f}\")"
   ]
  },
  {
   "cell_type": "markdown",
   "id": "0de2ae4d",
   "metadata": {},
   "source": [
    "## Save the trained model and encoders to disk"
   ]
  },
  {
   "cell_type": "code",
   "execution_count": null,
   "id": "0f949675",
   "metadata": {},
   "outputs": [],
   "source": [
    "import pickle\n",
    "\n",
    "# Create a dictionary to save everything needed for production\n",
    "export_dict = {\n",
    "    \"model\": model,\n",
    "    \"pokemon_encoder\": pokemon_encoder,\n",
    "    \"attack_encoder\": attack_encoder,\n",
    "    \"result_encoder\": result_encoder\n",
    "}\n",
    "\n",
    "# Save it\n",
    "with open('models/attack_predictor.pkl', 'wb') as f:\n",
    "    pickle.dump(export_dict, f)\n",
    "\n",
    "print(\"Model exported successfully to models/attack_predictor.pkl\")"
   ]
  },
  {
   "cell_type": "markdown",
   "id": "baf1f199",
   "metadata": {},
   "source": [
    "## Example of using the trained model"
   ]
  },
  {
   "cell_type": "code",
   "execution_count": null,
   "id": "7ca054eb",
   "metadata": {},
   "outputs": [
    {
     "ename": "",
     "evalue": "",
     "output_type": "error",
     "traceback": [
      "\u001b[1;31mRunning cells with 'Python 3.11.3' requires the ipykernel package.\n",
      "\u001b[1;31m<a href='command:jupyter.createPythonEnvAndSelectController'>Create a Python Environment</a> with the required packages.\n",
      "\u001b[1;31mOr install 'ipykernel' using the command: 'c:/Users/hugui/AppData/Local/Programs/Python/Python311/python.exe -m pip install ipykernel -U --user --force-reinstall'"
     ]
    }
   ],
   "source": [
    "# Load the saved model\n",
    "with open('models/attack_predictor.pkl', 'rb') as f:\n",
    "    saved_data = pickle.load(f)\n",
    "\n",
    "# Retrieve the saved model and encoders\n",
    "model = saved_data[\"model\"]\n",
    "pokemon_encoder = saved_data[\"pokemon_encoder\"]\n",
    "attack_encoder = saved_data[\"attack_encoder\"]\n",
    "result_encoder = saved_data[\"result_encoder\"]"
   ]
  },
  {
   "cell_type": "code",
   "execution_count": null,
   "id": "c060bd25",
   "metadata": {},
   "outputs": [],
   "source": [
    "# Detected Pokemons and Attack Types\n",
    "detected_pokemon_name = \"Pidgey\"\n",
    "available_attack_types = [\"Electric\", \"Water\", \"Fire\", \"Grass\"]\n",
    "\n",
    "# For each available attack, predict the result\n",
    "best_attack = None\n",
    "best_score = None\n",
    "\n",
    "for attack in available_attack_types:\n",
    "    try:\n",
    "        # Encode the Pokemon name and attack type\n",
    "        pokemon_encoded = pokemon_encoder.transform([detected_pokemon_name])[0]\n",
    "        attack_encoded = attack_encoder.transform([attack])[0]\n",
    "\n",
    "        # Make the prediction\n",
    "        prediction = model.predict(np.array([[pokemon_encoded, attack_encoded]]))\n",
    "        predicted_result = result_encoder.inverse_transform(prediction)[0]\n",
    "\n",
    "        # Define a priority system\n",
    "        score = 0\n",
    "        if predicted_result == \"super_effective\":\n",
    "            score = 2\n",
    "        elif predicted_result == \"effective\":\n",
    "            score = 1\n",
    "        elif predicted_result == \"not_very_effective\":\n",
    "            score = 0\n",
    "\n",
    "        # Update the best attack based on the score\n",
    "        if best_score is None or score > best_score:\n",
    "            best_score = score\n",
    "            best_attack = attack\n",
    "\n",
    "    except Exception as e:\n",
    "        print(f\"Warning: could not predict for attack {attack} -> {str(e)}\")\n",
    "\n",
    "# Display the best attack found\n",
    "if best_attack:\n",
    "    print(f\"Best attack to use: {best_attack}\")\n",
    "else:\n",
    "    print(\"No valid attack found.\")"
   ]
  }
 ],
 "metadata": {
  "kernelspec": {
   "display_name": "Python 3",
   "language": "python",
   "name": "python3"
  },
  "language_info": {
   "codemirror_mode": {
    "name": "ipython",
    "version": 3
   },
   "file_extension": ".py",
   "mimetype": "text/x-python",
   "name": "python",
   "nbconvert_exporter": "python",
   "pygments_lexer": "ipython3",
   "version": "3.11.3"
  }
 },
 "nbformat": 4,
 "nbformat_minor": 5
}
